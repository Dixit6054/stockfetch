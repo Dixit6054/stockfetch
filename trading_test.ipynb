{
  "nbformat": 4,
  "nbformat_minor": 0,
  "metadata": {
    "colab": {
      "provenance": [],
      "include_colab_link": true
    },
    "kernelspec": {
      "name": "python3",
      "display_name": "Python 3"
    },
    "language_info": {
      "name": "python"
    }
  },
  "cells": [
    {
      "cell_type": "markdown",
      "metadata": {
        "id": "view-in-github",
        "colab_type": "text"
      },
      "source": [
        "<a href=\"https://colab.research.google.com/github/Dixit6054/stockfetch/blob/master/trading_test.ipynb\" target=\"_parent\"><img src=\"https://colab.research.google.com/assets/colab-badge.svg\" alt=\"Open In Colab\"/></a>"
      ]
    },
    {
      "cell_type": "markdown",
      "source": [
        "## Importing data"
      ],
      "metadata": {
        "id": "9pViy2oQntVE"
      }
    },
    {
      "cell_type": "code",
      "execution_count": null,
      "metadata": {
        "id": "V6mdIMDjDagr",
        "colab": {
          "base_uri": "https://localhost:8080/"
        },
        "outputId": "cb0949ad-edda-47dc-a8e9-5d3f87adfb26"
      },
      "outputs": [
        {
          "output_type": "stream",
          "name": "stdout",
          "text": [
            "Requirement already satisfied: kaleido in /usr/local/lib/python3.10/dist-packages (0.2.1)\n"
          ]
        }
      ],
      "source": [
        "# This cell imports all the necessary modules.\n",
        "!pip install -U kaleido\n",
        "import kaleido\n",
        "import requests\n",
        "import pandas as pd\n",
        "import plotly.graph_objects as go\n",
        "from plotly.subplots import make_subplots\n",
        "from datetime import datetime\n",
        "import time\n",
        "import pytz\n",
        "\n"
      ]
    },
    {
      "cell_type": "code",
      "source": [
        "import requests\n",
        "import pandas as pd\n",
        "\n",
        "def fetch_kraken_ohlc(symbol: str = \"XBTUSD\", interval: int = 60, limit: int = 100):\n",
        "    url = \"https://api.kraken.com/0/public/OHLC\"\n",
        "    params = {\n",
        "        \"pair\": symbol,\n",
        "        \"interval\": interval,\n",
        "    }\n",
        "    response = requests.get(url, params=params)\n",
        "\n",
        "    if response.status_code != 200:\n",
        "        raise Exception(f\"Error fetching data from Kraken API: {response.json()}\")\n",
        "\n",
        "    data = response.json()\n",
        "    if 'error' in data and data['error']:\n",
        "        raise Exception(f\"Kraken API Error: {data['error']}\")\n",
        "\n",
        "    # Extract OHLC data\n",
        "    pair_data = list(data[\"result\"].values())[0]\n",
        "    # Updated columns to include the extra column from the API response\n",
        "    columns = [\"Time\", \"Open\", \"High\", \"Low\", \"Close\", \"Volume\", \"Vwep\", \"Count\"]\n",
        "    df = pd.DataFrame(pair_data, columns=columns)\n",
        "\n",
        "    # Convert to appropriate types\n",
        "    df[\"Time\"] = pd.to_datetime(df[\"Time\"], unit='s')\n",
        "    numeric_cols = [\"Open\", \"High\", \"Low\", \"Close\", \"Volume\", \"Vwep\"] #Include Vwep in numeric columns\n",
        "    df[numeric_cols] = df[numeric_cols].astype(float)\n",
        "    df.set_index(\"Time\", inplace=True)\n",
        "\n",
        "    #Calculate Close Time - shifted by the interval\n",
        "    df['Close Time'] = df.index + pd.Timedelta(seconds=interval)\n",
        "\n",
        "    return df\n",
        "\n",
        "# Example usage\n",
        "df = fetch_kraken_ohlc()\n",
        "print(df.head())"
      ],
      "metadata": {
        "colab": {
          "base_uri": "https://localhost:8080/"
        },
        "id": "qCp2XSLzj6Ot",
        "outputId": "376b7adc-5ae6-4c4f-87e0-076634b0011e"
      },
      "execution_count": null,
      "outputs": [
        {
          "output_type": "stream",
          "name": "stdout",
          "text": [
            "                        Open     High      Low    Close   Volume        Vwep  \\\n",
            "Time                                                                           \n",
            "2024-11-17 22:00:00  89147.8  89775.5  88728.6  89488.0  89314.7  377.105235   \n",
            "2024-11-17 23:00:00  89530.4  89850.0  89374.3  89850.0  89666.0   16.954050   \n",
            "2024-11-18 00:00:00  89850.0  90096.1  89700.0  89920.1  89960.5   60.228627   \n",
            "2024-11-18 01:00:00  89942.6  90888.8  89913.6  90737.0  90479.6  126.554994   \n",
            "2024-11-18 02:00:00  90737.1  90831.4  90417.2  90484.3  90577.5   48.874748   \n",
            "\n",
            "                     Count          Close Time  \n",
            "Time                                            \n",
            "2024-11-17 22:00:00   2373 2024-11-17 22:01:00  \n",
            "2024-11-17 23:00:00   1151 2024-11-17 23:01:00  \n",
            "2024-11-18 00:00:00   1312 2024-11-18 00:01:00  \n",
            "2024-11-18 01:00:00   1614 2024-11-18 01:01:00  \n",
            "2024-11-18 02:00:00   1142 2024-11-18 02:01:00  \n"
          ]
        }
      ]
    },
    {
      "cell_type": "code",
      "source": [
        "#import from binance does not work from canada /US\n",
        "# this function does not do anything, just for reference\n",
        "\n",
        "import requests\n",
        "import pandas as pd\n",
        "\n",
        "def fetch_binance_klines(symbol: str, interval: str, limit: int = 100):\n",
        "    url = \"https://api.binance.com/api/v3/klines\"\n",
        "    params = {\n",
        "        \"symbol\": symbol,\n",
        "        \"interval\": interval,\n",
        "        \"limit\": limit\n",
        "    }\n",
        "    response = requests.get(url, params=params)\n",
        "    data = response.json()\n",
        "\n",
        "    df = pd.DataFrame(data, columns=[\n",
        "        \"Open Time\", \"Open\", \"High\", \"Low\", \"Close\", \"Volume\",\n",
        "        \"Close Time\", \"Quote Asset Volume\", \"Number of Trades\",\n",
        "        \"Taker buy base asset volume\", \"Taker buy quote asset volume\", \"Ignore\"\n",
        "    ])\n",
        "\n",
        "    df[\"Open Time\"] = pd.to_datetime(df[\"Open Time\"], unit='ms', utc=True)\n",
        "    df[\"Close Time\"] = pd.to_datetime(df[\"Close Time\"], unit='ms', utc=True)\n",
        "    numeric_cols = [\"Open\", \"High\", \"Low\", \"Close\", \"Volume\"]\n",
        "    df[numeric_cols] = df[numeric_cols].astype(float)\n",
        "    df.set_index(\"Open Time\", inplace=True)\n",
        "\n",
        "    return df[[\"Open\", \"High\", \"Low\", \"Close\", \"Volume\", \"Close Time\"]]\n",
        "\n",
        "# Example usage\n",
        "df = fetch_binance_klines(\"BTCUSDT\", \"1h\", limit=100)\n",
        "print(df.head())"
      ],
      "metadata": {
        "colab": {
          "base_uri": "https://localhost:8080/"
        },
        "id": "n4gI7tg1B3IZ",
        "outputId": "580165d9-9679-4ef5-bf66-3349de790ff5"
      },
      "execution_count": null,
      "outputs": [
        {
          "output_type": "stream",
          "name": "stdout",
          "text": [
            "Empty DataFrame\n",
            "Columns: [Open, High, Low, Close, Volume, Close Time]\n",
            "Index: []\n"
          ]
        }
      ]
    },
    {
      "cell_type": "markdown",
      "source": [
        "# Plot Candles"
      ],
      "metadata": {
        "id": "BLGFOY25owH8"
      }
    },
    {
      "cell_type": "code",
      "source": [
        "def plot_candles(h1_df, d1_df):\n",
        "    \"\"\"\n",
        "    Plot 2 columns:\n",
        "    - Column 1: last 20 1H candles (including current candle forming)\n",
        "    - Column 2: last 5 1D candles (including current candle forming)\n",
        "\n",
        "    Show time in EST, no scroller, separate Y scales.\n",
        "    Legend at top, axis labels visible.\n",
        "    Annotate the current candle with time until it closes.\n",
        "    \"\"\"\n",
        "    # Extract the subsets\n",
        "    h1_data = h1_df.tail(20)\n",
        "    d1_data = d1_df.tail(5)\n",
        "\n",
        "    # Convert index and close times to EST\n",
        "    est_tz = pytz.timezone(\"America/New_York\")\n",
        "    h1_data.index = h1_data.index.tz_localize('UTC').tz_convert(est_tz)\n",
        "    #h1_data[\"Close Time\"] = h1_data[\"Close Time\"].dt.tz_localize('UTC').tz_convert(est_tz)\n",
        "    h1_data[\"Close Time\"] = h1_data[\"Close Time\"].dt.tz_localize('UTC').tz_convert(est_tz)\n",
        "\n",
        "    d1_data.index = d1_data.index.tz_localize('UTC').tz_convert(est_tz)\n",
        "    d1_data[\"Close Time\"] = d1_data[\"Close Time\"].dt.tz_localize('UTC').tz_convert(est_tz)\n",
        "\n",
        "    fig = make_subplots(rows=1, cols=2, shared_yaxes=False, horizontal_spacing=0.05)\n",
        "\n",
        "    # 1H Candles\n",
        "    fig.add_trace(\n",
        "        go.Candlestick(\n",
        "            x=h1_data.index,\n",
        "            open=h1_data[\"Open\"], high=h1_data[\"High\"],\n",
        "            low=h1_data[\"Low\"], close=h1_data[\"Close\"],\n",
        "            name=\"1H\"\n",
        "        ),\n",
        "        row=1, col=1\n",
        "    )\n",
        "\n",
        "    # 1D Candles\n",
        "    fig.add_trace(\n",
        "        go.Candlestick(\n",
        "            x=d1_data.index,\n",
        "            open=d1_data[\"Open\"], high=d1_data[\"High\"],\n",
        "            low=d1_data[\"Low\"], close=d1_data[\"Close\"],\n",
        "            name=\"1D\"\n",
        "        ),\n",
        "        row=1, col=2\n",
        "    )\n",
        "\n",
        "    # Layout adjustments\n",
        "    fig.update_layout(\n",
        "        template=\"plotly_dark\",\n",
        "        margin=dict(l=40, r=40, t=40, b=40),\n",
        "        showlegend=True,\n",
        "        legend=dict(\n",
        "            orientation=\"h\",\n",
        "            yanchor=\"bottom\",\n",
        "            y=1.1,\n",
        "            xanchor=\"left\",\n",
        "            x=0\n",
        "        )\n",
        "    )\n",
        "\n",
        "    # Disable range slider\n",
        "    fig.update_xaxes(rangeslider_visible=False)\n",
        "\n",
        "    # Axes customization\n",
        "    fig.update_xaxes(\n",
        "        showgrid=False, zeroline=False, showline=True,\n",
        "        showticklabels=True, linecolor='white',\n",
        "        title_text=\"Time (EST)\"\n",
        "    )\n",
        "    fig.update_yaxes(\n",
        "        showgrid=True, gridcolor='gray', zeroline=False, showline=True,\n",
        "        showticklabels=True, linecolor='white',\n",
        "        title_text=\"Price\"\n",
        "    )\n",
        "\n",
        "    # Annotate the current candle with time to close for each chart\n",
        "    now_est = datetime.now(est_tz)\n",
        "\n",
        "    # For 1H\n",
        "    h1_data.iloc[-1]\n",
        "    h1_last_candle = h1_data.iloc[-1]\n",
        "    h1_close_time = h1_last_candle[\"Close Time\"]\n",
        "    h1_time_to_close = h1_close_time - now_est\n",
        "    # Format time remaining as mm:ss (or hh:mm:ss if > 1h)\n",
        "    h1_minutes, h1_seconds = divmod(int(h1_time_to_close.total_seconds()), 60)\n",
        "    h1_hours, h1_minutes = divmod(h1_minutes, 60)\n",
        "    if h1_hours > 0:\n",
        "        h1_time_str = f\"{h1_hours}h {h1_minutes}m {h1_seconds}s\"\n",
        "    else:\n",
        "        h1_time_str = f\"{h1_minutes}m {h1_seconds}s\"\n",
        "    fig.add_annotation(\n",
        "        x=h1_data.index[-1],\n",
        "        y=h1_data[\"High\"].iloc[-1] * 1.01,  # slightly above candle\n",
        "        text=f\"Time to close: {h1_time_str}\",\n",
        "        showarrow=False,\n",
        "        row=1, col=1,\n",
        "        font=dict(color='white')\n",
        "    )\n",
        "\n",
        "    # For 1D\n",
        "    d1_last_candle = d1_data.iloc[-1]\n",
        "    d1_close_time = d1_last_candle[\"Close Time\"]\n",
        "    d1_time_to_close = d1_close_time - now_est\n",
        "    d1_minutes, d1_seconds = divmod(int(d1_time_to_close.total_seconds()), 60)\n",
        "    d1_hours, d1_minutes = divmod(d1_minutes, 60)\n",
        "    d1_days, d1_hours = divmod(d1_hours, 24)\n",
        "    # Format day/hour/min/sec\n",
        "    if d1_days > 0:\n",
        "        d1_time_str = f\"{d1_days}d {d1_hours}h {d1_minutes}m {d1_seconds}s\"\n",
        "    elif d1_hours > 0:\n",
        "        d1_time_str = f\"{d1_hours}h {d1_minutes}m {d1_seconds}s\"\n",
        "    else:\n",
        "        d1_time_str = f\"{d1_minutes}m {d1_seconds}s\"\n",
        "    fig.add_annotation(\n",
        "        x=d1_data.index[-1],\n",
        "        y=d1_data[\"High\"].iloc[-1] * 1.01,\n",
        "        text=f\"Time to close: {d1_time_str}\",\n",
        "        showarrow=False,\n",
        "        row=1, col=2,\n",
        "        font=dict(color='white')\n",
        "    )\n",
        "\n",
        "    return fig\n"
      ],
      "metadata": {
        "id": "Ts3A8FQfFkWb"
      },
      "execution_count": null,
      "outputs": []
    },
    {
      "cell_type": "code",
      "source": [
        "# Main Fetch to run for plots\n",
        "def run_fetch_and_plot(symbol=\"BTCUSDT\"):\n",
        "    h1_df = fetch_kraken_ohlc(symbol, 60, limit=100)\n",
        "    d1_df = fetch_kraken_ohlc(symbol, 60*24, limit=100)\n",
        "    fig = plot_candles(h1_df, d1_df)\n",
        "    fig.show()\n",
        "    return fig\n",
        "\n",
        "temp =run_fetch_and_plot(\"BTCUSDT\")\n",
        "\n"
      ],
      "metadata": {
        "id": "gh6yOVMvF251",
        "colab": {
          "base_uri": "https://localhost:8080/",
          "height": 820
        },
        "outputId": "316763af-c4a2-4b90-c6d3-d99700e35189"
      },
      "execution_count": null,
      "outputs": [
        {
          "output_type": "stream",
          "name": "stderr",
          "text": [
            "<ipython-input-5-e39cbabad400>:19: SettingWithCopyWarning:\n",
            "\n",
            "\n",
            "A value is trying to be set on a copy of a slice from a DataFrame.\n",
            "Try using .loc[row_indexer,col_indexer] = value instead\n",
            "\n",
            "See the caveats in the documentation: https://pandas.pydata.org/pandas-docs/stable/user_guide/indexing.html#returning-a-view-versus-a-copy\n",
            "\n",
            "<ipython-input-5-e39cbabad400>:22: SettingWithCopyWarning:\n",
            "\n",
            "\n",
            "A value is trying to be set on a copy of a slice from a DataFrame.\n",
            "Try using .loc[row_indexer,col_indexer] = value instead\n",
            "\n",
            "See the caveats in the documentation: https://pandas.pydata.org/pandas-docs/stable/user_guide/indexing.html#returning-a-view-versus-a-copy\n",
            "\n"
          ]
        },
        {
          "output_type": "display_data",
          "data": {
            "text/html": [
              "<html>\n",
              "<head><meta charset=\"utf-8\" /></head>\n",
              "<body>\n",
              "    <div>            <script src=\"https://cdnjs.cloudflare.com/ajax/libs/mathjax/2.7.5/MathJax.js?config=TeX-AMS-MML_SVG\"></script><script type=\"text/javascript\">if (window.MathJax && window.MathJax.Hub && window.MathJax.Hub.Config) {window.MathJax.Hub.Config({SVG: {font: \"STIX-Web\"}});}</script>                <script type=\"text/javascript\">window.PlotlyConfig = {MathJaxConfig: 'local'};</script>\n",
              "        <script charset=\"utf-8\" src=\"https://cdn.plot.ly/plotly-2.35.2.min.js\"></script>                <div id=\"fd04860a-bbd8-4e8e-897d-118b4af5d812\" class=\"plotly-graph-div\" style=\"height:525px; width:100%;\"></div>            <script type=\"text/javascript\">                                    window.PLOTLYENV=window.PLOTLYENV || {};                                    if (document.getElementById(\"fd04860a-bbd8-4e8e-897d-118b4af5d812\")) {                    Plotly.newPlot(                        \"fd04860a-bbd8-4e8e-897d-118b4af5d812\",                        [{\"close\":[106831.3,106497.7,106808.5,106545.3,106788.9,107423.8,107263.9,107194.2,106860.1,107112.4,107255.1,108225.8,106453.6,107014.5,107508.8,106505.1,106462.1,106727.8,106393.3,106297.1],\"high\":[106926.0,106831.3,106808.5,106810.3,107086.3,107500.1,107425.0,107264.0,107279.0,107147.8,107600.7,108262.5,108238.4,107065.9,107584.8,107612.2,106954.8,106822.2,106745.1,106393.4],\"low\":[106212.6,106409.5,106438.6,106355.9,106533.7,106789.0,107145.0,107000.0,106750.1,106606.3,106982.0,107085.4,105750.1,106195.4,106751.6,106368.3,105796.5,106207.7,106247.3,106285.2],\"name\":\"1H\",\"open\":[106212.6,106831.3,106497.3,106805.8,106541.4,106789.0,107423.7,107264.0,107196.6,106860.1,107112.5,107300.0,108231.3,106453.7,107023.8,107501.9,106549.4,106462.1,106672.5,106393.4],\"x\":[\"2024-12-16T22:00:00-05:00\",\"2024-12-16T23:00:00-05:00\",\"2024-12-17T00:00:00-05:00\",\"2024-12-17T01:00:00-05:00\",\"2024-12-17T02:00:00-05:00\",\"2024-12-17T03:00:00-05:00\",\"2024-12-17T04:00:00-05:00\",\"2024-12-17T05:00:00-05:00\",\"2024-12-17T06:00:00-05:00\",\"2024-12-17T07:00:00-05:00\",\"2024-12-17T08:00:00-05:00\",\"2024-12-17T09:00:00-05:00\",\"2024-12-17T10:00:00-05:00\",\"2024-12-17T11:00:00-05:00\",\"2024-12-17T12:00:00-05:00\",\"2024-12-17T13:00:00-05:00\",\"2024-12-17T14:00:00-05:00\",\"2024-12-17T15:00:00-05:00\",\"2024-12-17T16:00:00-05:00\",\"2024-12-17T17:00:00-05:00\"],\"type\":\"candlestick\",\"xaxis\":\"x\",\"yaxis\":\"y\"},{\"close\":[101400.2,101395.0,104461.8,105999.9,106343.4],\"high\":[101866.3,102536.9,105116.9,107753.1,108262.5],\"low\":[99271.7,100694.3,101231.8,103365.7,105637.7],\"name\":\"1D\",\"open\":[100031.9,101411.9,101395.0,104439.2,106000.0],\"x\":[\"2024-12-12T19:00:00-05:00\",\"2024-12-13T19:00:00-05:00\",\"2024-12-14T19:00:00-05:00\",\"2024-12-15T19:00:00-05:00\",\"2024-12-16T19:00:00-05:00\"],\"type\":\"candlestick\",\"xaxis\":\"x2\",\"yaxis\":\"y2\"}],                        {\"template\":{\"data\":{\"barpolar\":[{\"marker\":{\"line\":{\"color\":\"rgb(17,17,17)\",\"width\":0.5},\"pattern\":{\"fillmode\":\"overlay\",\"size\":10,\"solidity\":0.2}},\"type\":\"barpolar\"}],\"bar\":[{\"error_x\":{\"color\":\"#f2f5fa\"},\"error_y\":{\"color\":\"#f2f5fa\"},\"marker\":{\"line\":{\"color\":\"rgb(17,17,17)\",\"width\":0.5},\"pattern\":{\"fillmode\":\"overlay\",\"size\":10,\"solidity\":0.2}},\"type\":\"bar\"}],\"carpet\":[{\"aaxis\":{\"endlinecolor\":\"#A2B1C6\",\"gridcolor\":\"#506784\",\"linecolor\":\"#506784\",\"minorgridcolor\":\"#506784\",\"startlinecolor\":\"#A2B1C6\"},\"baxis\":{\"endlinecolor\":\"#A2B1C6\",\"gridcolor\":\"#506784\",\"linecolor\":\"#506784\",\"minorgridcolor\":\"#506784\",\"startlinecolor\":\"#A2B1C6\"},\"type\":\"carpet\"}],\"choropleth\":[{\"colorbar\":{\"outlinewidth\":0,\"ticks\":\"\"},\"type\":\"choropleth\"}],\"contourcarpet\":[{\"colorbar\":{\"outlinewidth\":0,\"ticks\":\"\"},\"type\":\"contourcarpet\"}],\"contour\":[{\"colorbar\":{\"outlinewidth\":0,\"ticks\":\"\"},\"colorscale\":[[0.0,\"#0d0887\"],[0.1111111111111111,\"#46039f\"],[0.2222222222222222,\"#7201a8\"],[0.3333333333333333,\"#9c179e\"],[0.4444444444444444,\"#bd3786\"],[0.5555555555555556,\"#d8576b\"],[0.6666666666666666,\"#ed7953\"],[0.7777777777777778,\"#fb9f3a\"],[0.8888888888888888,\"#fdca26\"],[1.0,\"#f0f921\"]],\"type\":\"contour\"}],\"heatmapgl\":[{\"colorbar\":{\"outlinewidth\":0,\"ticks\":\"\"},\"colorscale\":[[0.0,\"#0d0887\"],[0.1111111111111111,\"#46039f\"],[0.2222222222222222,\"#7201a8\"],[0.3333333333333333,\"#9c179e\"],[0.4444444444444444,\"#bd3786\"],[0.5555555555555556,\"#d8576b\"],[0.6666666666666666,\"#ed7953\"],[0.7777777777777778,\"#fb9f3a\"],[0.8888888888888888,\"#fdca26\"],[1.0,\"#f0f921\"]],\"type\":\"heatmapgl\"}],\"heatmap\":[{\"colorbar\":{\"outlinewidth\":0,\"ticks\":\"\"},\"colorscale\":[[0.0,\"#0d0887\"],[0.1111111111111111,\"#46039f\"],[0.2222222222222222,\"#7201a8\"],[0.3333333333333333,\"#9c179e\"],[0.4444444444444444,\"#bd3786\"],[0.5555555555555556,\"#d8576b\"],[0.6666666666666666,\"#ed7953\"],[0.7777777777777778,\"#fb9f3a\"],[0.8888888888888888,\"#fdca26\"],[1.0,\"#f0f921\"]],\"type\":\"heatmap\"}],\"histogram2dcontour\":[{\"colorbar\":{\"outlinewidth\":0,\"ticks\":\"\"},\"colorscale\":[[0.0,\"#0d0887\"],[0.1111111111111111,\"#46039f\"],[0.2222222222222222,\"#7201a8\"],[0.3333333333333333,\"#9c179e\"],[0.4444444444444444,\"#bd3786\"],[0.5555555555555556,\"#d8576b\"],[0.6666666666666666,\"#ed7953\"],[0.7777777777777778,\"#fb9f3a\"],[0.8888888888888888,\"#fdca26\"],[1.0,\"#f0f921\"]],\"type\":\"histogram2dcontour\"}],\"histogram2d\":[{\"colorbar\":{\"outlinewidth\":0,\"ticks\":\"\"},\"colorscale\":[[0.0,\"#0d0887\"],[0.1111111111111111,\"#46039f\"],[0.2222222222222222,\"#7201a8\"],[0.3333333333333333,\"#9c179e\"],[0.4444444444444444,\"#bd3786\"],[0.5555555555555556,\"#d8576b\"],[0.6666666666666666,\"#ed7953\"],[0.7777777777777778,\"#fb9f3a\"],[0.8888888888888888,\"#fdca26\"],[1.0,\"#f0f921\"]],\"type\":\"histogram2d\"}],\"histogram\":[{\"marker\":{\"pattern\":{\"fillmode\":\"overlay\",\"size\":10,\"solidity\":0.2}},\"type\":\"histogram\"}],\"mesh3d\":[{\"colorbar\":{\"outlinewidth\":0,\"ticks\":\"\"},\"type\":\"mesh3d\"}],\"parcoords\":[{\"line\":{\"colorbar\":{\"outlinewidth\":0,\"ticks\":\"\"}},\"type\":\"parcoords\"}],\"pie\":[{\"automargin\":true,\"type\":\"pie\"}],\"scatter3d\":[{\"line\":{\"colorbar\":{\"outlinewidth\":0,\"ticks\":\"\"}},\"marker\":{\"colorbar\":{\"outlinewidth\":0,\"ticks\":\"\"}},\"type\":\"scatter3d\"}],\"scattercarpet\":[{\"marker\":{\"colorbar\":{\"outlinewidth\":0,\"ticks\":\"\"}},\"type\":\"scattercarpet\"}],\"scattergeo\":[{\"marker\":{\"colorbar\":{\"outlinewidth\":0,\"ticks\":\"\"}},\"type\":\"scattergeo\"}],\"scattergl\":[{\"marker\":{\"line\":{\"color\":\"#283442\"}},\"type\":\"scattergl\"}],\"scattermapbox\":[{\"marker\":{\"colorbar\":{\"outlinewidth\":0,\"ticks\":\"\"}},\"type\":\"scattermapbox\"}],\"scatterpolargl\":[{\"marker\":{\"colorbar\":{\"outlinewidth\":0,\"ticks\":\"\"}},\"type\":\"scatterpolargl\"}],\"scatterpolar\":[{\"marker\":{\"colorbar\":{\"outlinewidth\":0,\"ticks\":\"\"}},\"type\":\"scatterpolar\"}],\"scatter\":[{\"marker\":{\"line\":{\"color\":\"#283442\"}},\"type\":\"scatter\"}],\"scatterternary\":[{\"marker\":{\"colorbar\":{\"outlinewidth\":0,\"ticks\":\"\"}},\"type\":\"scatterternary\"}],\"surface\":[{\"colorbar\":{\"outlinewidth\":0,\"ticks\":\"\"},\"colorscale\":[[0.0,\"#0d0887\"],[0.1111111111111111,\"#46039f\"],[0.2222222222222222,\"#7201a8\"],[0.3333333333333333,\"#9c179e\"],[0.4444444444444444,\"#bd3786\"],[0.5555555555555556,\"#d8576b\"],[0.6666666666666666,\"#ed7953\"],[0.7777777777777778,\"#fb9f3a\"],[0.8888888888888888,\"#fdca26\"],[1.0,\"#f0f921\"]],\"type\":\"surface\"}],\"table\":[{\"cells\":{\"fill\":{\"color\":\"#506784\"},\"line\":{\"color\":\"rgb(17,17,17)\"}},\"header\":{\"fill\":{\"color\":\"#2a3f5f\"},\"line\":{\"color\":\"rgb(17,17,17)\"}},\"type\":\"table\"}]},\"layout\":{\"annotationdefaults\":{\"arrowcolor\":\"#f2f5fa\",\"arrowhead\":0,\"arrowwidth\":1},\"autotypenumbers\":\"strict\",\"coloraxis\":{\"colorbar\":{\"outlinewidth\":0,\"ticks\":\"\"}},\"colorscale\":{\"diverging\":[[0,\"#8e0152\"],[0.1,\"#c51b7d\"],[0.2,\"#de77ae\"],[0.3,\"#f1b6da\"],[0.4,\"#fde0ef\"],[0.5,\"#f7f7f7\"],[0.6,\"#e6f5d0\"],[0.7,\"#b8e186\"],[0.8,\"#7fbc41\"],[0.9,\"#4d9221\"],[1,\"#276419\"]],\"sequential\":[[0.0,\"#0d0887\"],[0.1111111111111111,\"#46039f\"],[0.2222222222222222,\"#7201a8\"],[0.3333333333333333,\"#9c179e\"],[0.4444444444444444,\"#bd3786\"],[0.5555555555555556,\"#d8576b\"],[0.6666666666666666,\"#ed7953\"],[0.7777777777777778,\"#fb9f3a\"],[0.8888888888888888,\"#fdca26\"],[1.0,\"#f0f921\"]],\"sequentialminus\":[[0.0,\"#0d0887\"],[0.1111111111111111,\"#46039f\"],[0.2222222222222222,\"#7201a8\"],[0.3333333333333333,\"#9c179e\"],[0.4444444444444444,\"#bd3786\"],[0.5555555555555556,\"#d8576b\"],[0.6666666666666666,\"#ed7953\"],[0.7777777777777778,\"#fb9f3a\"],[0.8888888888888888,\"#fdca26\"],[1.0,\"#f0f921\"]]},\"colorway\":[\"#636efa\",\"#EF553B\",\"#00cc96\",\"#ab63fa\",\"#FFA15A\",\"#19d3f3\",\"#FF6692\",\"#B6E880\",\"#FF97FF\",\"#FECB52\"],\"font\":{\"color\":\"#f2f5fa\"},\"geo\":{\"bgcolor\":\"rgb(17,17,17)\",\"lakecolor\":\"rgb(17,17,17)\",\"landcolor\":\"rgb(17,17,17)\",\"showlakes\":true,\"showland\":true,\"subunitcolor\":\"#506784\"},\"hoverlabel\":{\"align\":\"left\"},\"hovermode\":\"closest\",\"mapbox\":{\"style\":\"dark\"},\"paper_bgcolor\":\"rgb(17,17,17)\",\"plot_bgcolor\":\"rgb(17,17,17)\",\"polar\":{\"angularaxis\":{\"gridcolor\":\"#506784\",\"linecolor\":\"#506784\",\"ticks\":\"\"},\"bgcolor\":\"rgb(17,17,17)\",\"radialaxis\":{\"gridcolor\":\"#506784\",\"linecolor\":\"#506784\",\"ticks\":\"\"}},\"scene\":{\"xaxis\":{\"backgroundcolor\":\"rgb(17,17,17)\",\"gridcolor\":\"#506784\",\"gridwidth\":2,\"linecolor\":\"#506784\",\"showbackground\":true,\"ticks\":\"\",\"zerolinecolor\":\"#C8D4E3\"},\"yaxis\":{\"backgroundcolor\":\"rgb(17,17,17)\",\"gridcolor\":\"#506784\",\"gridwidth\":2,\"linecolor\":\"#506784\",\"showbackground\":true,\"ticks\":\"\",\"zerolinecolor\":\"#C8D4E3\"},\"zaxis\":{\"backgroundcolor\":\"rgb(17,17,17)\",\"gridcolor\":\"#506784\",\"gridwidth\":2,\"linecolor\":\"#506784\",\"showbackground\":true,\"ticks\":\"\",\"zerolinecolor\":\"#C8D4E3\"}},\"shapedefaults\":{\"line\":{\"color\":\"#f2f5fa\"}},\"sliderdefaults\":{\"bgcolor\":\"#C8D4E3\",\"bordercolor\":\"rgb(17,17,17)\",\"borderwidth\":1,\"tickwidth\":0},\"ternary\":{\"aaxis\":{\"gridcolor\":\"#506784\",\"linecolor\":\"#506784\",\"ticks\":\"\"},\"baxis\":{\"gridcolor\":\"#506784\",\"linecolor\":\"#506784\",\"ticks\":\"\"},\"bgcolor\":\"rgb(17,17,17)\",\"caxis\":{\"gridcolor\":\"#506784\",\"linecolor\":\"#506784\",\"ticks\":\"\"}},\"title\":{\"x\":0.05},\"updatemenudefaults\":{\"bgcolor\":\"#506784\",\"borderwidth\":0},\"xaxis\":{\"automargin\":true,\"gridcolor\":\"#283442\",\"linecolor\":\"#506784\",\"ticks\":\"\",\"title\":{\"standoff\":15},\"zerolinecolor\":\"#283442\",\"zerolinewidth\":2},\"yaxis\":{\"automargin\":true,\"gridcolor\":\"#283442\",\"linecolor\":\"#506784\",\"ticks\":\"\",\"title\":{\"standoff\":15},\"zerolinecolor\":\"#283442\",\"zerolinewidth\":2}}},\"xaxis\":{\"anchor\":\"y\",\"domain\":[0.0,0.475],\"rangeslider\":{\"visible\":false},\"title\":{\"text\":\"Time (EST)\"},\"showgrid\":false,\"zeroline\":false,\"showline\":true,\"showticklabels\":true,\"linecolor\":\"white\"},\"yaxis\":{\"anchor\":\"x\",\"domain\":[0.0,1.0],\"title\":{\"text\":\"Price\"},\"showgrid\":true,\"gridcolor\":\"gray\",\"zeroline\":false,\"showline\":true,\"showticklabels\":true,\"linecolor\":\"white\"},\"xaxis2\":{\"anchor\":\"y2\",\"domain\":[0.525,1.0],\"rangeslider\":{\"visible\":false},\"title\":{\"text\":\"Time (EST)\"},\"showgrid\":false,\"zeroline\":false,\"showline\":true,\"showticklabels\":true,\"linecolor\":\"white\"},\"yaxis2\":{\"anchor\":\"x2\",\"domain\":[0.0,1.0],\"title\":{\"text\":\"Price\"},\"showgrid\":true,\"gridcolor\":\"gray\",\"zeroline\":false,\"showline\":true,\"showticklabels\":true,\"linecolor\":\"white\"},\"margin\":{\"l\":40,\"r\":40,\"t\":40,\"b\":40},\"legend\":{\"orientation\":\"h\",\"yanchor\":\"bottom\",\"y\":1.1,\"xanchor\":\"left\",\"x\":0},\"showlegend\":true,\"annotations\":[{\"font\":{\"color\":\"white\"},\"showarrow\":false,\"text\":\"Time to close: 58m 0s\",\"x\":\"2024-12-17T17:00:00-05:00\",\"xref\":\"x\",\"y\":107457.33399999999,\"yref\":\"y\"},{\"font\":{\"color\":\"white\"},\"showarrow\":false,\"text\":\"Time to close: 2h 21m 0s\",\"x\":\"2024-12-16T19:00:00-05:00\",\"xref\":\"x2\",\"y\":109345.125,\"yref\":\"y2\"}]},                        {\"responsive\": true}                    ).then(function(){\n",
              "                            \n",
              "var gd = document.getElementById('fd04860a-bbd8-4e8e-897d-118b4af5d812');\n",
              "var x = new MutationObserver(function (mutations, observer) {{\n",
              "        var display = window.getComputedStyle(gd).display;\n",
              "        if (!display || display === 'none') {{\n",
              "            console.log([gd, 'removed!']);\n",
              "            Plotly.purge(gd);\n",
              "            observer.disconnect();\n",
              "        }}\n",
              "}});\n",
              "\n",
              "// Listen for the removal of the full notebook cells\n",
              "var notebookContainer = gd.closest('#notebook-container');\n",
              "if (notebookContainer) {{\n",
              "    x.observe(notebookContainer, {childList: true});\n",
              "}}\n",
              "\n",
              "// Listen for the clearing of the current output cell\n",
              "var outputEl = gd.closest('.output');\n",
              "if (outputEl) {{\n",
              "    x.observe(outputEl, {childList: true});\n",
              "}}\n",
              "\n",
              "                        })                };                            </script>        </div>\n",
              "</body>\n",
              "</html>"
            ]
          },
          "metadata": {}
        }
      ]
    },
    {
      "cell_type": "markdown",
      "source": [
        "# Export fig to Telegram Chat"
      ],
      "metadata": {
        "id": "_t9lk2MLq2wR"
      }
    },
    {
      "cell_type": "code",
      "source": [
        "!pip install -U kaleido # Install or update kaleido\n",
        "import kaleido          # Make sure kaleido is imported\n",
        "import plotly.io as pio # Import the submodule used by Plotly for IO\n",
        "\n",
        "# Test the run_fetch_and_plot function for BTC/USDT\n",
        "fig = run_fetch_and_plot(\"BTCUSDT\")\n",
        "#fig.write_image(\"chart.png\")\n",
        "\n",
        "# Explicitly set the engine to 'kaleido'\n",
        "pio.write_image(fig, \"chart1.png\", engine=\"kaleido\")\n",
        "\n"
      ],
      "metadata": {
        "id": "1ym-N131F7Oh",
        "colab": {
          "base_uri": "https://localhost:8080/",
          "height": 837
        },
        "outputId": "0a928dd0-ffe8-4d3c-e3a2-6186c8410d72"
      },
      "execution_count": null,
      "outputs": [
        {
          "output_type": "stream",
          "name": "stdout",
          "text": [
            "Requirement already satisfied: kaleido in /usr/local/lib/python3.10/dist-packages (0.2.1)\n"
          ]
        },
        {
          "output_type": "stream",
          "name": "stderr",
          "text": [
            "<ipython-input-5-e39cbabad400>:19: SettingWithCopyWarning:\n",
            "\n",
            "\n",
            "A value is trying to be set on a copy of a slice from a DataFrame.\n",
            "Try using .loc[row_indexer,col_indexer] = value instead\n",
            "\n",
            "See the caveats in the documentation: https://pandas.pydata.org/pandas-docs/stable/user_guide/indexing.html#returning-a-view-versus-a-copy\n",
            "\n",
            "<ipython-input-5-e39cbabad400>:22: SettingWithCopyWarning:\n",
            "\n",
            "\n",
            "A value is trying to be set on a copy of a slice from a DataFrame.\n",
            "Try using .loc[row_indexer,col_indexer] = value instead\n",
            "\n",
            "See the caveats in the documentation: https://pandas.pydata.org/pandas-docs/stable/user_guide/indexing.html#returning-a-view-versus-a-copy\n",
            "\n"
          ]
        },
        {
          "output_type": "display_data",
          "data": {
            "text/html": [
              "<html>\n",
              "<head><meta charset=\"utf-8\" /></head>\n",
              "<body>\n",
              "    <div>            <script src=\"https://cdnjs.cloudflare.com/ajax/libs/mathjax/2.7.5/MathJax.js?config=TeX-AMS-MML_SVG\"></script><script type=\"text/javascript\">if (window.MathJax && window.MathJax.Hub && window.MathJax.Hub.Config) {window.MathJax.Hub.Config({SVG: {font: \"STIX-Web\"}});}</script>                <script type=\"text/javascript\">window.PlotlyConfig = {MathJaxConfig: 'local'};</script>\n",
              "        <script charset=\"utf-8\" src=\"https://cdn.plot.ly/plotly-2.35.2.min.js\"></script>                <div id=\"7182e24d-30a6-4064-8688-3e24c1bb0b14\" class=\"plotly-graph-div\" style=\"height:525px; width:100%;\"></div>            <script type=\"text/javascript\">                                    window.PLOTLYENV=window.PLOTLYENV || {};                                    if (document.getElementById(\"7182e24d-30a6-4064-8688-3e24c1bb0b14\")) {                    Plotly.newPlot(                        \"7182e24d-30a6-4064-8688-3e24c1bb0b14\",                        [{\"close\":[106831.3,106497.7,106808.5,106545.3,106788.9,107423.8,107263.9,107194.2,106860.1,107112.4,107255.1,108225.8,106453.6,107014.5,107508.8,106505.1,106462.1,106727.8,106393.3,106343.4],\"high\":[106926.0,106831.3,106808.5,106810.3,107086.3,107500.1,107425.0,107264.0,107279.0,107147.8,107600.7,108262.5,108238.4,107065.9,107584.8,107612.2,106954.8,106822.2,106745.1,106393.4],\"low\":[106212.6,106409.5,106438.6,106355.9,106533.7,106789.0,107145.0,107000.0,106750.1,106606.3,106982.0,107085.4,105750.1,106195.4,106751.6,106368.3,105796.5,106207.7,106247.3,106285.2],\"name\":\"1H\",\"open\":[106212.6,106831.3,106497.3,106805.8,106541.4,106789.0,107423.7,107264.0,107196.6,106860.1,107112.5,107300.0,108231.3,106453.7,107023.8,107501.9,106549.4,106462.1,106672.5,106393.4],\"x\":[\"2024-12-16T22:00:00-05:00\",\"2024-12-16T23:00:00-05:00\",\"2024-12-17T00:00:00-05:00\",\"2024-12-17T01:00:00-05:00\",\"2024-12-17T02:00:00-05:00\",\"2024-12-17T03:00:00-05:00\",\"2024-12-17T04:00:00-05:00\",\"2024-12-17T05:00:00-05:00\",\"2024-12-17T06:00:00-05:00\",\"2024-12-17T07:00:00-05:00\",\"2024-12-17T08:00:00-05:00\",\"2024-12-17T09:00:00-05:00\",\"2024-12-17T10:00:00-05:00\",\"2024-12-17T11:00:00-05:00\",\"2024-12-17T12:00:00-05:00\",\"2024-12-17T13:00:00-05:00\",\"2024-12-17T14:00:00-05:00\",\"2024-12-17T15:00:00-05:00\",\"2024-12-17T16:00:00-05:00\",\"2024-12-17T17:00:00-05:00\"],\"type\":\"candlestick\",\"xaxis\":\"x\",\"yaxis\":\"y\"},{\"close\":[101400.2,101395.0,104461.8,105999.9,106343.4],\"high\":[101866.3,102536.9,105116.9,107753.1,108262.5],\"low\":[99271.7,100694.3,101231.8,103365.7,105637.7],\"name\":\"1D\",\"open\":[100031.9,101411.9,101395.0,104439.2,106000.0],\"x\":[\"2024-12-12T19:00:00-05:00\",\"2024-12-13T19:00:00-05:00\",\"2024-12-14T19:00:00-05:00\",\"2024-12-15T19:00:00-05:00\",\"2024-12-16T19:00:00-05:00\"],\"type\":\"candlestick\",\"xaxis\":\"x2\",\"yaxis\":\"y2\"}],                        {\"template\":{\"data\":{\"barpolar\":[{\"marker\":{\"line\":{\"color\":\"rgb(17,17,17)\",\"width\":0.5},\"pattern\":{\"fillmode\":\"overlay\",\"size\":10,\"solidity\":0.2}},\"type\":\"barpolar\"}],\"bar\":[{\"error_x\":{\"color\":\"#f2f5fa\"},\"error_y\":{\"color\":\"#f2f5fa\"},\"marker\":{\"line\":{\"color\":\"rgb(17,17,17)\",\"width\":0.5},\"pattern\":{\"fillmode\":\"overlay\",\"size\":10,\"solidity\":0.2}},\"type\":\"bar\"}],\"carpet\":[{\"aaxis\":{\"endlinecolor\":\"#A2B1C6\",\"gridcolor\":\"#506784\",\"linecolor\":\"#506784\",\"minorgridcolor\":\"#506784\",\"startlinecolor\":\"#A2B1C6\"},\"baxis\":{\"endlinecolor\":\"#A2B1C6\",\"gridcolor\":\"#506784\",\"linecolor\":\"#506784\",\"minorgridcolor\":\"#506784\",\"startlinecolor\":\"#A2B1C6\"},\"type\":\"carpet\"}],\"choropleth\":[{\"colorbar\":{\"outlinewidth\":0,\"ticks\":\"\"},\"type\":\"choropleth\"}],\"contourcarpet\":[{\"colorbar\":{\"outlinewidth\":0,\"ticks\":\"\"},\"type\":\"contourcarpet\"}],\"contour\":[{\"colorbar\":{\"outlinewidth\":0,\"ticks\":\"\"},\"colorscale\":[[0.0,\"#0d0887\"],[0.1111111111111111,\"#46039f\"],[0.2222222222222222,\"#7201a8\"],[0.3333333333333333,\"#9c179e\"],[0.4444444444444444,\"#bd3786\"],[0.5555555555555556,\"#d8576b\"],[0.6666666666666666,\"#ed7953\"],[0.7777777777777778,\"#fb9f3a\"],[0.8888888888888888,\"#fdca26\"],[1.0,\"#f0f921\"]],\"type\":\"contour\"}],\"heatmapgl\":[{\"colorbar\":{\"outlinewidth\":0,\"ticks\":\"\"},\"colorscale\":[[0.0,\"#0d0887\"],[0.1111111111111111,\"#46039f\"],[0.2222222222222222,\"#7201a8\"],[0.3333333333333333,\"#9c179e\"],[0.4444444444444444,\"#bd3786\"],[0.5555555555555556,\"#d8576b\"],[0.6666666666666666,\"#ed7953\"],[0.7777777777777778,\"#fb9f3a\"],[0.8888888888888888,\"#fdca26\"],[1.0,\"#f0f921\"]],\"type\":\"heatmapgl\"}],\"heatmap\":[{\"colorbar\":{\"outlinewidth\":0,\"ticks\":\"\"},\"colorscale\":[[0.0,\"#0d0887\"],[0.1111111111111111,\"#46039f\"],[0.2222222222222222,\"#7201a8\"],[0.3333333333333333,\"#9c179e\"],[0.4444444444444444,\"#bd3786\"],[0.5555555555555556,\"#d8576b\"],[0.6666666666666666,\"#ed7953\"],[0.7777777777777778,\"#fb9f3a\"],[0.8888888888888888,\"#fdca26\"],[1.0,\"#f0f921\"]],\"type\":\"heatmap\"}],\"histogram2dcontour\":[{\"colorbar\":{\"outlinewidth\":0,\"ticks\":\"\"},\"colorscale\":[[0.0,\"#0d0887\"],[0.1111111111111111,\"#46039f\"],[0.2222222222222222,\"#7201a8\"],[0.3333333333333333,\"#9c179e\"],[0.4444444444444444,\"#bd3786\"],[0.5555555555555556,\"#d8576b\"],[0.6666666666666666,\"#ed7953\"],[0.7777777777777778,\"#fb9f3a\"],[0.8888888888888888,\"#fdca26\"],[1.0,\"#f0f921\"]],\"type\":\"histogram2dcontour\"}],\"histogram2d\":[{\"colorbar\":{\"outlinewidth\":0,\"ticks\":\"\"},\"colorscale\":[[0.0,\"#0d0887\"],[0.1111111111111111,\"#46039f\"],[0.2222222222222222,\"#7201a8\"],[0.3333333333333333,\"#9c179e\"],[0.4444444444444444,\"#bd3786\"],[0.5555555555555556,\"#d8576b\"],[0.6666666666666666,\"#ed7953\"],[0.7777777777777778,\"#fb9f3a\"],[0.8888888888888888,\"#fdca26\"],[1.0,\"#f0f921\"]],\"type\":\"histogram2d\"}],\"histogram\":[{\"marker\":{\"pattern\":{\"fillmode\":\"overlay\",\"size\":10,\"solidity\":0.2}},\"type\":\"histogram\"}],\"mesh3d\":[{\"colorbar\":{\"outlinewidth\":0,\"ticks\":\"\"},\"type\":\"mesh3d\"}],\"parcoords\":[{\"line\":{\"colorbar\":{\"outlinewidth\":0,\"ticks\":\"\"}},\"type\":\"parcoords\"}],\"pie\":[{\"automargin\":true,\"type\":\"pie\"}],\"scatter3d\":[{\"line\":{\"colorbar\":{\"outlinewidth\":0,\"ticks\":\"\"}},\"marker\":{\"colorbar\":{\"outlinewidth\":0,\"ticks\":\"\"}},\"type\":\"scatter3d\"}],\"scattercarpet\":[{\"marker\":{\"colorbar\":{\"outlinewidth\":0,\"ticks\":\"\"}},\"type\":\"scattercarpet\"}],\"scattergeo\":[{\"marker\":{\"colorbar\":{\"outlinewidth\":0,\"ticks\":\"\"}},\"type\":\"scattergeo\"}],\"scattergl\":[{\"marker\":{\"line\":{\"color\":\"#283442\"}},\"type\":\"scattergl\"}],\"scattermapbox\":[{\"marker\":{\"colorbar\":{\"outlinewidth\":0,\"ticks\":\"\"}},\"type\":\"scattermapbox\"}],\"scatterpolargl\":[{\"marker\":{\"colorbar\":{\"outlinewidth\":0,\"ticks\":\"\"}},\"type\":\"scatterpolargl\"}],\"scatterpolar\":[{\"marker\":{\"colorbar\":{\"outlinewidth\":0,\"ticks\":\"\"}},\"type\":\"scatterpolar\"}],\"scatter\":[{\"marker\":{\"line\":{\"color\":\"#283442\"}},\"type\":\"scatter\"}],\"scatterternary\":[{\"marker\":{\"colorbar\":{\"outlinewidth\":0,\"ticks\":\"\"}},\"type\":\"scatterternary\"}],\"surface\":[{\"colorbar\":{\"outlinewidth\":0,\"ticks\":\"\"},\"colorscale\":[[0.0,\"#0d0887\"],[0.1111111111111111,\"#46039f\"],[0.2222222222222222,\"#7201a8\"],[0.3333333333333333,\"#9c179e\"],[0.4444444444444444,\"#bd3786\"],[0.5555555555555556,\"#d8576b\"],[0.6666666666666666,\"#ed7953\"],[0.7777777777777778,\"#fb9f3a\"],[0.8888888888888888,\"#fdca26\"],[1.0,\"#f0f921\"]],\"type\":\"surface\"}],\"table\":[{\"cells\":{\"fill\":{\"color\":\"#506784\"},\"line\":{\"color\":\"rgb(17,17,17)\"}},\"header\":{\"fill\":{\"color\":\"#2a3f5f\"},\"line\":{\"color\":\"rgb(17,17,17)\"}},\"type\":\"table\"}]},\"layout\":{\"annotationdefaults\":{\"arrowcolor\":\"#f2f5fa\",\"arrowhead\":0,\"arrowwidth\":1},\"autotypenumbers\":\"strict\",\"coloraxis\":{\"colorbar\":{\"outlinewidth\":0,\"ticks\":\"\"}},\"colorscale\":{\"diverging\":[[0,\"#8e0152\"],[0.1,\"#c51b7d\"],[0.2,\"#de77ae\"],[0.3,\"#f1b6da\"],[0.4,\"#fde0ef\"],[0.5,\"#f7f7f7\"],[0.6,\"#e6f5d0\"],[0.7,\"#b8e186\"],[0.8,\"#7fbc41\"],[0.9,\"#4d9221\"],[1,\"#276419\"]],\"sequential\":[[0.0,\"#0d0887\"],[0.1111111111111111,\"#46039f\"],[0.2222222222222222,\"#7201a8\"],[0.3333333333333333,\"#9c179e\"],[0.4444444444444444,\"#bd3786\"],[0.5555555555555556,\"#d8576b\"],[0.6666666666666666,\"#ed7953\"],[0.7777777777777778,\"#fb9f3a\"],[0.8888888888888888,\"#fdca26\"],[1.0,\"#f0f921\"]],\"sequentialminus\":[[0.0,\"#0d0887\"],[0.1111111111111111,\"#46039f\"],[0.2222222222222222,\"#7201a8\"],[0.3333333333333333,\"#9c179e\"],[0.4444444444444444,\"#bd3786\"],[0.5555555555555556,\"#d8576b\"],[0.6666666666666666,\"#ed7953\"],[0.7777777777777778,\"#fb9f3a\"],[0.8888888888888888,\"#fdca26\"],[1.0,\"#f0f921\"]]},\"colorway\":[\"#636efa\",\"#EF553B\",\"#00cc96\",\"#ab63fa\",\"#FFA15A\",\"#19d3f3\",\"#FF6692\",\"#B6E880\",\"#FF97FF\",\"#FECB52\"],\"font\":{\"color\":\"#f2f5fa\"},\"geo\":{\"bgcolor\":\"rgb(17,17,17)\",\"lakecolor\":\"rgb(17,17,17)\",\"landcolor\":\"rgb(17,17,17)\",\"showlakes\":true,\"showland\":true,\"subunitcolor\":\"#506784\"},\"hoverlabel\":{\"align\":\"left\"},\"hovermode\":\"closest\",\"mapbox\":{\"style\":\"dark\"},\"paper_bgcolor\":\"rgb(17,17,17)\",\"plot_bgcolor\":\"rgb(17,17,17)\",\"polar\":{\"angularaxis\":{\"gridcolor\":\"#506784\",\"linecolor\":\"#506784\",\"ticks\":\"\"},\"bgcolor\":\"rgb(17,17,17)\",\"radialaxis\":{\"gridcolor\":\"#506784\",\"linecolor\":\"#506784\",\"ticks\":\"\"}},\"scene\":{\"xaxis\":{\"backgroundcolor\":\"rgb(17,17,17)\",\"gridcolor\":\"#506784\",\"gridwidth\":2,\"linecolor\":\"#506784\",\"showbackground\":true,\"ticks\":\"\",\"zerolinecolor\":\"#C8D4E3\"},\"yaxis\":{\"backgroundcolor\":\"rgb(17,17,17)\",\"gridcolor\":\"#506784\",\"gridwidth\":2,\"linecolor\":\"#506784\",\"showbackground\":true,\"ticks\":\"\",\"zerolinecolor\":\"#C8D4E3\"},\"zaxis\":{\"backgroundcolor\":\"rgb(17,17,17)\",\"gridcolor\":\"#506784\",\"gridwidth\":2,\"linecolor\":\"#506784\",\"showbackground\":true,\"ticks\":\"\",\"zerolinecolor\":\"#C8D4E3\"}},\"shapedefaults\":{\"line\":{\"color\":\"#f2f5fa\"}},\"sliderdefaults\":{\"bgcolor\":\"#C8D4E3\",\"bordercolor\":\"rgb(17,17,17)\",\"borderwidth\":1,\"tickwidth\":0},\"ternary\":{\"aaxis\":{\"gridcolor\":\"#506784\",\"linecolor\":\"#506784\",\"ticks\":\"\"},\"baxis\":{\"gridcolor\":\"#506784\",\"linecolor\":\"#506784\",\"ticks\":\"\"},\"bgcolor\":\"rgb(17,17,17)\",\"caxis\":{\"gridcolor\":\"#506784\",\"linecolor\":\"#506784\",\"ticks\":\"\"}},\"title\":{\"x\":0.05},\"updatemenudefaults\":{\"bgcolor\":\"#506784\",\"borderwidth\":0},\"xaxis\":{\"automargin\":true,\"gridcolor\":\"#283442\",\"linecolor\":\"#506784\",\"ticks\":\"\",\"title\":{\"standoff\":15},\"zerolinecolor\":\"#283442\",\"zerolinewidth\":2},\"yaxis\":{\"automargin\":true,\"gridcolor\":\"#283442\",\"linecolor\":\"#506784\",\"ticks\":\"\",\"title\":{\"standoff\":15},\"zerolinecolor\":\"#283442\",\"zerolinewidth\":2}}},\"xaxis\":{\"anchor\":\"y\",\"domain\":[0.0,0.475],\"rangeslider\":{\"visible\":false},\"title\":{\"text\":\"Time (EST)\"},\"showgrid\":false,\"zeroline\":false,\"showline\":true,\"showticklabels\":true,\"linecolor\":\"white\"},\"yaxis\":{\"anchor\":\"x\",\"domain\":[0.0,1.0],\"title\":{\"text\":\"Price\"},\"showgrid\":true,\"gridcolor\":\"gray\",\"zeroline\":false,\"showline\":true,\"showticklabels\":true,\"linecolor\":\"white\"},\"xaxis2\":{\"anchor\":\"y2\",\"domain\":[0.525,1.0],\"rangeslider\":{\"visible\":false},\"title\":{\"text\":\"Time (EST)\"},\"showgrid\":false,\"zeroline\":false,\"showline\":true,\"showticklabels\":true,\"linecolor\":\"white\"},\"yaxis2\":{\"anchor\":\"x2\",\"domain\":[0.0,1.0],\"title\":{\"text\":\"Price\"},\"showgrid\":true,\"gridcolor\":\"gray\",\"zeroline\":false,\"showline\":true,\"showticklabels\":true,\"linecolor\":\"white\"},\"margin\":{\"l\":40,\"r\":40,\"t\":40,\"b\":40},\"legend\":{\"orientation\":\"h\",\"yanchor\":\"bottom\",\"y\":1.1,\"xanchor\":\"left\",\"x\":0},\"showlegend\":true,\"annotations\":[{\"font\":{\"color\":\"white\"},\"showarrow\":false,\"text\":\"Time to close: 57m 30s\",\"x\":\"2024-12-17T17:00:00-05:00\",\"xref\":\"x\",\"y\":107457.33399999999,\"yref\":\"y\"},{\"font\":{\"color\":\"white\"},\"showarrow\":false,\"text\":\"Time to close: 2h 20m 30s\",\"x\":\"2024-12-16T19:00:00-05:00\",\"xref\":\"x2\",\"y\":109345.125,\"yref\":\"y2\"}]},                        {\"responsive\": true}                    ).then(function(){\n",
              "                            \n",
              "var gd = document.getElementById('7182e24d-30a6-4064-8688-3e24c1bb0b14');\n",
              "var x = new MutationObserver(function (mutations, observer) {{\n",
              "        var display = window.getComputedStyle(gd).display;\n",
              "        if (!display || display === 'none') {{\n",
              "            console.log([gd, 'removed!']);\n",
              "            Plotly.purge(gd);\n",
              "            observer.disconnect();\n",
              "        }}\n",
              "}});\n",
              "\n",
              "// Listen for the removal of the full notebook cells\n",
              "var notebookContainer = gd.closest('#notebook-container');\n",
              "if (notebookContainer) {{\n",
              "    x.observe(notebookContainer, {childList: true});\n",
              "}}\n",
              "\n",
              "// Listen for the clearing of the current output cell\n",
              "var outputEl = gd.closest('.output');\n",
              "if (outputEl) {{\n",
              "    x.observe(outputEl, {childList: true});\n",
              "}}\n",
              "\n",
              "                        })                };                            </script>        </div>\n",
              "</body>\n",
              "</html>"
            ]
          },
          "metadata": {}
        }
      ]
    },
    {
      "cell_type": "code",
      "source": [
        "#Exporting the Figure and Sending to Telegram\n",
        "\n",
        "# Now send 'chart1.png' to Telegram.\n",
        "# You need a Telegram bot token and chat_id.\n",
        "\n",
        "TELEGRAM_BOT_TOKEN = \"6752612939:AAHG52PLf3c8XK3Wc-t1ohszKeu8ILx4ISg\"\n",
        "CHAT_ID = \"-1001958631566\"\n",
        "\n",
        "import requests\n",
        "\n",
        "url = f\"https://api.telegram.org/bot{TELEGRAM_BOT_TOKEN}/sendPhoto\"\n",
        "files = {'photo': open('chart1.png', 'rb')}\n",
        "data = {'chat_id' : CHAT_ID, 'caption': 'Latest 1H & 1D Candlesticks'}\n",
        "r = requests.post(url, files=files, data=data)\n",
        "print(r.json())\n"
      ],
      "metadata": {
        "id": "K-vF4dMCGCmS",
        "colab": {
          "base_uri": "https://localhost:8080/"
        },
        "outputId": "058f6e77-cb7c-4cfa-c753-6bcbb1ba79c7"
      },
      "execution_count": null,
      "outputs": [
        {
          "output_type": "stream",
          "name": "stdout",
          "text": [
            "{'ok': True, 'result': {'message_id': 218, 'sender_chat': {'id': -1001958631566, 'title': 'GBPUSD', 'type': 'channel'}, 'chat': {'id': -1001958631566, 'title': 'GBPUSD', 'type': 'channel'}, 'date': 1734473252, 'photo': [{'file_id': 'AgACAgEAAx0EdL5YjgAD2mdh9iRvVe6s86rfdOzZuFvNJqerAAKFrjEbAyoRR20_gyBvKNKcAQADAgADcwADNgQ', 'file_unique_id': 'AQADha4xGwMqEUd4', 'file_size': 998, 'width': 90, 'height': 64}, {'file_id': 'AgACAgEAAx0EdL5YjgAD2mdh9iRvVe6s86rfdOzZuFvNJqerAAKFrjEbAyoRR20_gyBvKNKcAQADAgADbQADNgQ', 'file_unique_id': 'AQADha4xGwMqEUdy', 'file_size': 10802, 'width': 320, 'height': 229}, {'file_id': 'AgACAgEAAx0EdL5YjgAD2mdh9iRvVe6s86rfdOzZuFvNJqerAAKFrjEbAyoRR20_gyBvKNKcAQADAgADeAADNgQ', 'file_unique_id': 'AQADha4xGwMqEUd9', 'file_size': 31265, 'width': 700, 'height': 500}], 'caption': 'Latest 1H & 1D Candlesticks'}}\n"
          ]
        }
      ]
    }
  ]
}